{
  "nbformat": 4,
  "nbformat_minor": 0,
  "metadata": {
    "colab": {
      "provenance": []
    },
    "kernelspec": {
      "name": "python3",
      "display_name": "Python 3"
    },
    "language_info": {
      "name": "python"
    }
  },
  "cells": [
    {
      "cell_type": "code",
      "execution_count": 1,
      "metadata": {
        "id": "kPbebtWm5kT4"
      },
      "outputs": [],
      "source": [
        "import pandas as pd\n",
        "import numpy as np"
      ]
    },
    {
      "cell_type": "markdown",
      "source": [
        "Cargar los datos desde los archivos CSV"
      ],
      "metadata": {
        "id": "zfnX0Ojp58LC"
      }
    },
    {
      "cell_type": "code",
      "source": [
        "ventas_df = pd.read_csv('/workspace/ventas.csv')\n",
        "inventarios_df = pd.read_csv('/workspace/inventarios.csv')\n",
        "satisfaccion_df = pd.read_csv('/workspace/satisfaccion.csv')"
      ],
      "metadata": {
        "id": "zxQsA46h53eb"
      },
      "execution_count": null,
      "outputs": []
    },
    {
      "cell_type": "markdown",
      "source": [
        "Limpieza de datos"
      ],
      "metadata": {
        "id": "i-jAVkW66Aqb"
      }
    },
    {
      "cell_type": "code",
      "source": [
        "ventas_df.dropna(inplace=True)\n",
        "inventarios_df.dropna(inplace=True)\n",
        "satisfaccion_df.dropna(inplace=True)\n"
      ],
      "metadata": {
        "id": "aJgTyQL456ti"
      },
      "execution_count": null,
      "outputs": []
    },
    {
      "cell_type": "markdown",
      "source": [
        "Verificar estructuras"
      ],
      "metadata": {
        "id": "3keQxh076EXC"
      }
    },
    {
      "cell_type": "code",
      "source": [
        "print(\"\\n--- Información del DataFrame de Ventas ---\")\n",
        "print(ventas_df.info())\n",
        "print(\"\\n--- Información del DataFrame de Inventarios ---\")\n",
        "print(inventarios_df.info())\n",
        "print(\"\\n--- Información del DataFrame de Satisfacción ---\")\n",
        "print(satisfaccion_df.info())"
      ],
      "metadata": {
        "id": "y2dHItRL5606"
      },
      "execution_count": null,
      "outputs": []
    },
    {
      "cell_type": "markdown",
      "source": [
        "Exploración de datos:\n",
        "Ventas totales por producto y tienda"
      ],
      "metadata": {
        "id": "Q2zAS-fG6IKQ"
      }
    },
    {
      "cell_type": "code",
      "source": [
        "ventas_df['Total_Ventas'] = ventas_df['Unidades'] * ventas_df['Precio_unitario']\n",
        "print(\"\\n--- Ventas totales por tienda ---\")\n",
        "print(ventas_df.groupby('Tienda')['Total_Ventas'].sum())"
      ],
      "metadata": {
        "id": "Ah0RZGsh5648"
      },
      "execution_count": null,
      "outputs": []
    },
    {
      "cell_type": "markdown",
      "source": [
        "Resumen estadístico de ventas"
      ],
      "metadata": {
        "id": "HPERDtVy6TPx"
      }
    },
    {
      "cell_type": "code",
      "source": [
        "print(\"\\n--- Resumen estadístico de las ventas ---\")\n",
        "print(ventas_df['Total_Ventas'].describe())"
      ],
      "metadata": {
        "id": "e3453S8i5676"
      },
      "execution_count": null,
      "outputs": []
    },
    {
      "cell_type": "markdown",
      "source": [
        "Promedio de ventas por tienda y categoría"
      ],
      "metadata": {
        "id": "ZujKZKPm6V5J"
      }
    },
    {
      "cell_type": "code",
      "source": [
        "print(\"\\n--- Promedio de ventas por tienda y categoría ---\")\n",
        "print(ventas_df.groupby(['Tienda', 'Categoría'])['Total_Ventas'].mean())"
      ],
      "metadata": {
        "id": "p7BJfBlS56-0"
      },
      "execution_count": null,
      "outputs": []
    },
    {
      "cell_type": "markdown",
      "source": [
        "Análisis de inventarios: Rotación de inventarios"
      ],
      "metadata": {
        "id": "VL-gO5T56ZJK"
      }
    },
    {
      "cell_type": "code",
      "source": [
        "inventarios_df['Rotacion'] = ventas_df.groupby('Producto')['Unidades'].sum() / inventarios_df['Stock_Disponible']\n",
        "print(\"\\n--- Rotación de inventarios ---\")\n",
        "print(inventarios_df[['Producto', 'Rotacion']])"
      ],
      "metadata": {
        "id": "bmLcy24R57Bc"
      },
      "execution_count": null,
      "outputs": []
    },
    {
      "cell_type": "markdown",
      "source": [
        "Tiendas con niveles críticos de inventario (<10%)"
      ],
      "metadata": {
        "id": "oqvoJeun6eRb"
      }
    },
    {
      "cell_type": "code",
      "source": [
        "inventarios_df['Porcentaje_Vendido'] = ventas_df.groupby('Producto')['Unidades'].sum() / inventarios_df['Stock_Disponible'] * 100\n",
        "tiendas_criticas = inventarios_df[inventarios_df['Porcentaje_Vendido'] < 10]\n",
        "print(\"\\n--- Tiendas con niveles críticos de inventario ---\")\n",
        "print(tiendas_criticas)"
      ],
      "metadata": {
        "id": "z0Jy5_du57Dt"
      },
      "execution_count": null,
      "outputs": []
    },
    {
      "cell_type": "markdown",
      "source": [
        "Análisis de satisfacción del cliente: Filtrar tiendas con satisfacción < 60%"
      ],
      "metadata": {
        "id": "lbUaeSHa6g77"
      }
    },
    {
      "cell_type": "code",
      "source": [
        "tiendas_baja_satisfaccion = satisfaccion_df[satisfaccion_df['Satisfaccion'] < 60]\n",
        "print(\"\\n--- Tiendas con baja satisfacción del cliente ---\")\n",
        "print(tiendas_baja_satisfaccion)"
      ],
      "metadata": {
        "id": "WY5KkENp57Gd"
      },
      "execution_count": null,
      "outputs": []
    },
    {
      "cell_type": "markdown",
      "source": [
        "Cálculos con Numpy: Mediana y desviación estándar de ventas totales"
      ],
      "metadata": {
        "id": "PUo3oeVQ6lIb"
      }
    },
    {
      "cell_type": "code",
      "source": [
        "ventas_totales_np = ventas_df['Total_Ventas'].to_numpy()\n",
        "print(\"\\n--- Mediana de las ventas totales ---\")\n",
        "print(np.median(ventas_totales_np))"
      ],
      "metadata": {
        "id": "AZlV3zXj57I8"
      },
      "execution_count": null,
      "outputs": []
    },
    {
      "cell_type": "code",
      "source": [
        "print(\"\\n--- Desviación estándar de las ventas totales ---\")\n",
        "print(np.std(ventas_totales_np))\n"
      ],
      "metadata": {
        "id": "l93J-Agj6qP_"
      },
      "execution_count": null,
      "outputs": []
    },
    {
      "cell_type": "markdown",
      "source": [
        "Simulación de proyecciones de ventas futuras"
      ],
      "metadata": {
        "id": "AfraQAhp6tG6"
      }
    },
    {
      "cell_type": "code",
      "source": [
        "np.random.seed(42)\n",
        "proyecciones_ventas = np.random.normal(np.mean(ventas_totales_np), np.std(ventas_totales_np), 100)\n",
        "print(\"\\n--- Proyecciones de ventas futuras (primeros 10 valores) ---\")\n",
        "print(proyecciones_ventas[:10])"
      ],
      "metadata": {
        "id": "Cl6O5LcW6qSx"
      },
      "execution_count": null,
      "outputs": []
    }
  ]
}